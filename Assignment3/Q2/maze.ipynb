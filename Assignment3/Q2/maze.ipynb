{
 "cells": [
  {
   "cell_type": "code",
   "execution_count": 1,
   "id": "069617bd",
   "metadata": {},
   "outputs": [],
   "source": [
    "import numpy as np"
   ]
  },
  {
   "cell_type": "code",
   "execution_count": 2,
   "id": "5f2979c8",
   "metadata": {},
   "outputs": [],
   "source": [
    "import turtle as t"
   ]
  },
  {
   "cell_type": "code",
   "execution_count": 3,
   "id": "14c62e3a",
   "metadata": {},
   "outputs": [
    {
     "data": {
      "text/plain": [
       "'/home/cherry/TP'"
      ]
     },
     "execution_count": 3,
     "metadata": {},
     "output_type": "execute_result"
    }
   ],
   "source": [
    "%pwd"
   ]
  },
  {
   "cell_type": "code",
   "execution_count": 4,
   "id": "b8c1e726",
   "metadata": {},
   "outputs": [],
   "source": [
    "H = np.genfromtxt('H.txt', dtype=int, delimiter=(','), deletechars=\";\")"
   ]
  },
  {
   "cell_type": "code",
   "execution_count": 5,
   "id": "8d9b74ee",
   "metadata": {},
   "outputs": [
    {
     "data": {
      "text/plain": [
       "array([[1, 0, 1, 1],\n",
       "       [1, 0, 1, 1],\n",
       "       [0, 1, 1, 1],\n",
       "       [1, 1, 0, 1]])"
      ]
     },
     "execution_count": 5,
     "metadata": {},
     "output_type": "execute_result"
    }
   ],
   "source": [
    "H"
   ]
  },
  {
   "cell_type": "code",
   "execution_count": 6,
   "id": "83b4fc0b",
   "metadata": {},
   "outputs": [],
   "source": [
    "V = np.genfromtxt('V.txt', dtype=int, delimiter=(','), deletechars=\";\")"
   ]
  },
  {
   "cell_type": "code",
   "execution_count": 7,
   "id": "a1eecd3f",
   "metadata": {},
   "outputs": [
    {
     "data": {
      "text/plain": [
       "array([[1, 1, 1, 1, 1],\n",
       "       [1, 0, 1, 1, 1],\n",
       "       [1, 0, 0, 1, 1]])"
      ]
     },
     "execution_count": 7,
     "metadata": {},
     "output_type": "execute_result"
    }
   ],
   "source": [
    "V"
   ]
  },
  {
   "cell_type": "code",
   "execution_count": 8,
   "id": "7a1f47e7",
   "metadata": {},
   "outputs": [
    {
     "data": {
      "text/plain": [
       "4"
      ]
     },
     "execution_count": 8,
     "metadata": {},
     "output_type": "execute_result"
    }
   ],
   "source": [
    "len(H)"
   ]
  },
  {
   "cell_type": "code",
   "execution_count": 9,
   "id": "cf388b52",
   "metadata": {},
   "outputs": [],
   "source": [
    "y=0\n",
    "for i in range(len(H)):\n",
    "    for j in range(len(H[1])):\n",
    "        t.pd()\n",
    "        if H[i,j]==1:\n",
    "            t.pd()\n",
    "            t.forward(50)\n",
    "        else:\n",
    "            t.pu()\n",
    "            t.forward(50)\n",
    "    y=y+50\n",
    "    t.pu()\n",
    "    t.goto(0,y)\n",
    "t.goto(0,0)"
   ]
  },
  {
   "cell_type": "code",
   "execution_count": 10,
   "id": "8bd02dea",
   "metadata": {},
   "outputs": [],
   "source": [
    "y=50\n",
    "t.pu()\n",
    "t.setpos(0,50)\n",
    "for a in range(len(V)):\n",
    "    x=0\n",
    "    for b in range(len(V[1])):\n",
    "        t.pd()\n",
    "        if V[a,b]==1:\n",
    "            x=x+50\n",
    "            t.seth(270)\n",
    "            t.forward(50)\n",
    "            t.pu()\n",
    "            t.setpos(x,y)\n",
    "        else:\n",
    "            x=x+50\n",
    "            t.seth(270)\n",
    "            t.pu()\n",
    "            t.forward(50)\n",
    "            t.setpos(x,y)\n",
    "        \n",
    "    y=y+50\n",
    "    t.pu()\n",
    "    t.goto(0,y)\n",
    "t.goto(0,0)"
   ]
  },
  {
   "cell_type": "code",
   "execution_count": 11,
   "id": "e065330a",
   "metadata": {},
   "outputs": [],
   "source": [
    "ansX=[0]*1\n",
    "ansY=[0]*1"
   ]
  },
  {
   "cell_type": "code",
   "execution_count": 12,
   "id": "b85b5c0a",
   "metadata": {},
   "outputs": [],
   "source": [
    "def findPathL(y,x):\n",
    "    ansX.append(x)\n",
    "    ansY.append(y)\n",
    "    if y==len(H)-1:\n",
    "        return 1\n",
    "    else:\n",
    "        if H[y+1,x]==0:\n",
    "            if findPathL(y+1,x)==1:\n",
    "                return 1\n",
    "        if V[y,x]==0:\n",
    "            if findPathL(y,x-1)==1:\n",
    "                return 1\n",
    "        if V[y,x+1]==0:\n",
    "            if findPathR(y,x+1)==1:\n",
    "                return 1\n",
    "        return 0"
   ]
  },
  {
   "cell_type": "code",
   "execution_count": 13,
   "id": "b4b57e21",
   "metadata": {},
   "outputs": [],
   "source": [
    "def findPathR(y,x):\n",
    "    ansX.append(x)\n",
    "    ansY.append(y)\n",
    "    if y==len(H)-1:\n",
    "        return 1\n",
    "    else:\n",
    "        if H[y+1,x]==0:\n",
    "            if findPathL(y+1,x)==1:\n",
    "                return 1\n",
    "        if V[y,x+1]==0:\n",
    "            if findPathR(y,x+1)==1:\n",
    "                return 1\n",
    "        #if V[y,x]==0:\n",
    "         #   if findPathL(y,x-1)==1: #Removing this as it is causing right-left infinite recursion\n",
    "          #      return 1\n",
    "        return 0"
   ]
  },
  {
   "cell_type": "code",
   "execution_count": 14,
   "id": "2f60b097",
   "metadata": {},
   "outputs": [
    {
     "name": "stdout",
     "output_type": "stream",
     "text": [
      "Exit Not Found\n",
      "Exit Found\n"
     ]
    }
   ],
   "source": [
    "for f in range(len(H[1])):\n",
    "    ansX.clear()\n",
    "    ansY.clear()\n",
    "    if findPathL(0,f)==1:\n",
    "        print(\"Exit Found\")\n",
    "        break\n",
    "    else:\n",
    "        print(\"Exit Not Found\")"
   ]
  },
  {
   "cell_type": "code",
   "execution_count": 15,
   "id": "0c3ee870",
   "metadata": {},
   "outputs": [],
   "source": [
    "S=[0]*1\n",
    "S.clear()\n",
    "for i in range(len(ansY)-1):\n",
    "    S.append([ansX[i]+1,ansY[i]+1])"
   ]
  },
  {
   "cell_type": "code",
   "execution_count": 16,
   "id": "9b954b83",
   "metadata": {},
   "outputs": [
    {
     "name": "stdout",
     "output_type": "stream",
     "text": [
      "[2, 1]\n",
      "[2, 2]\n",
      "[1, 2]\n",
      "[1, 3]\n",
      "[2, 3]\n",
      "[3, 3]\n"
     ]
    }
   ],
   "source": [
    "for i in range(len(S)):\n",
    "    print(S[i])"
   ]
  },
  {
   "cell_type": "code",
   "execution_count": 17,
   "id": "f635b6c2",
   "metadata": {},
   "outputs": [],
   "source": [
    "t.pu()\n",
    "t.seth(90)\n",
    "t.goto((ansX[1]+1)*50-25,(ansY[1]+1)*50-125)\n",
    "for i in range(len(ansY)):\n",
    "    t.pd()\n",
    "    t.goto((ansX[i]+1)*50-25,(ansY[i]+1)*50-25)"
   ]
  },
  {
   "cell_type": "code",
   "execution_count": null,
   "id": "7a77f620",
   "metadata": {},
   "outputs": [],
   "source": []
  },
  {
   "cell_type": "code",
   "execution_count": null,
   "id": "3b3b3044",
   "metadata": {},
   "outputs": [],
   "source": []
  }
 ],
 "metadata": {
  "kernelspec": {
   "display_name": "Python 3 (ipykernel)",
   "language": "python",
   "name": "python3"
  },
  "language_info": {
   "codemirror_mode": {
    "name": "ipython",
    "version": 3
   },
   "file_extension": ".py",
   "mimetype": "text/x-python",
   "name": "python",
   "nbconvert_exporter": "python",
   "pygments_lexer": "ipython3",
   "version": "3.10.4"
  }
 },
 "nbformat": 4,
 "nbformat_minor": 5
}
